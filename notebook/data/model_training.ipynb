{
 "cells": [
  {
   "cell_type": "markdown",
   "id": "ee03d090",
   "metadata": {},
   "source": [
    "# Model Training\n",
    "## 1.1 Import Data and Required Packages\n",
    "### Importing Pandas, Numpy, Matplotlib, Seaborn and Warings Library."
   ]
  },
  {
   "cell_type": "code",
   "execution_count": 12,
   "id": "8c7fea57",
   "metadata": {},
   "outputs": [],
   "source": [
    "# Basic Import\n",
    "import numpy as np\n",
    "import pandas as pd\n",
    "import matplotlib.pyplot as plt \n",
    "import seaborn as sns\n",
    "# Modelling\n",
    "from sklearn.metrics import mean_squared_error, r2_score\n",
    "from sklearn.neighbors import KNeighborsRegressor\n",
    "from sklearn.tree import DecisionTreeRegressor\n",
    "from sklearn.ensemble import RandomForestRegressor,AdaBoostRegressor\n",
    "from sklearn.svm import SVR\n",
    "from sklearn.linear_model import LinearRegression, Ridge,Lasso\n",
    "from sklearn.metrics import r2_score, mean_absolute_error, mean_squared_error\n",
    "from sklearn.model_selection import RandomizedSearchCV\n",
    "from catboost import CatBoostRegressor\n",
    "from xgboost import XGBRegressor\n",
    "import warnings\n",
    "warnings.filterwarnings('ignore')"
   ]
  },
  {
   "cell_type": "code",
   "execution_count": 11,
   "id": "e4a7289a",
   "metadata": {},
   "outputs": [],
   "source": [
    "df = pd.read_csv('../data/stud.csv')"
   ]
  },
  {
   "cell_type": "code",
   "execution_count": 13,
   "id": "1ab31299",
   "metadata": {},
   "outputs": [
    {
     "data": {
      "application/vnd.microsoft.datawrangler.viewer.v0+json": {
       "columns": [
        {
         "name": "index",
         "rawType": "int64",
         "type": "integer"
        },
        {
         "name": "gender",
         "rawType": "object",
         "type": "string"
        },
        {
         "name": "race_ethnicity",
         "rawType": "object",
         "type": "string"
        },
        {
         "name": "parental_level_of_education",
         "rawType": "object",
         "type": "string"
        },
        {
         "name": "lunch",
         "rawType": "object",
         "type": "string"
        },
        {
         "name": "test_preparation_course",
         "rawType": "object",
         "type": "string"
        },
        {
         "name": "math_score",
         "rawType": "int64",
         "type": "integer"
        },
        {
         "name": "reading_score",
         "rawType": "int64",
         "type": "integer"
        },
        {
         "name": "writing_score",
         "rawType": "int64",
         "type": "integer"
        }
       ],
       "ref": "9e2b663f-589e-4d42-a924-9082acaccdd2",
       "rows": [
        [
         "0",
         "female",
         "group B",
         "bachelor's degree",
         "standard",
         "none",
         "72",
         "72",
         "74"
        ],
        [
         "1",
         "female",
         "group C",
         "some college",
         "standard",
         "completed",
         "69",
         "90",
         "88"
        ],
        [
         "2",
         "female",
         "group B",
         "master's degree",
         "standard",
         "none",
         "90",
         "95",
         "93"
        ],
        [
         "3",
         "male",
         "group A",
         "associate's degree",
         "free/reduced",
         "none",
         "47",
         "57",
         "44"
        ],
        [
         "4",
         "male",
         "group C",
         "some college",
         "standard",
         "none",
         "76",
         "78",
         "75"
        ]
       ],
       "shape": {
        "columns": 8,
        "rows": 5
       }
      },
      "text/html": [
       "<div>\n",
       "<style scoped>\n",
       "    .dataframe tbody tr th:only-of-type {\n",
       "        vertical-align: middle;\n",
       "    }\n",
       "\n",
       "    .dataframe tbody tr th {\n",
       "        vertical-align: top;\n",
       "    }\n",
       "\n",
       "    .dataframe thead th {\n",
       "        text-align: right;\n",
       "    }\n",
       "</style>\n",
       "<table border=\"1\" class=\"dataframe\">\n",
       "  <thead>\n",
       "    <tr style=\"text-align: right;\">\n",
       "      <th></th>\n",
       "      <th>gender</th>\n",
       "      <th>race_ethnicity</th>\n",
       "      <th>parental_level_of_education</th>\n",
       "      <th>lunch</th>\n",
       "      <th>test_preparation_course</th>\n",
       "      <th>math_score</th>\n",
       "      <th>reading_score</th>\n",
       "      <th>writing_score</th>\n",
       "    </tr>\n",
       "  </thead>\n",
       "  <tbody>\n",
       "    <tr>\n",
       "      <th>0</th>\n",
       "      <td>female</td>\n",
       "      <td>group B</td>\n",
       "      <td>bachelor's degree</td>\n",
       "      <td>standard</td>\n",
       "      <td>none</td>\n",
       "      <td>72</td>\n",
       "      <td>72</td>\n",
       "      <td>74</td>\n",
       "    </tr>\n",
       "    <tr>\n",
       "      <th>1</th>\n",
       "      <td>female</td>\n",
       "      <td>group C</td>\n",
       "      <td>some college</td>\n",
       "      <td>standard</td>\n",
       "      <td>completed</td>\n",
       "      <td>69</td>\n",
       "      <td>90</td>\n",
       "      <td>88</td>\n",
       "    </tr>\n",
       "    <tr>\n",
       "      <th>2</th>\n",
       "      <td>female</td>\n",
       "      <td>group B</td>\n",
       "      <td>master's degree</td>\n",
       "      <td>standard</td>\n",
       "      <td>none</td>\n",
       "      <td>90</td>\n",
       "      <td>95</td>\n",
       "      <td>93</td>\n",
       "    </tr>\n",
       "    <tr>\n",
       "      <th>3</th>\n",
       "      <td>male</td>\n",
       "      <td>group A</td>\n",
       "      <td>associate's degree</td>\n",
       "      <td>free/reduced</td>\n",
       "      <td>none</td>\n",
       "      <td>47</td>\n",
       "      <td>57</td>\n",
       "      <td>44</td>\n",
       "    </tr>\n",
       "    <tr>\n",
       "      <th>4</th>\n",
       "      <td>male</td>\n",
       "      <td>group C</td>\n",
       "      <td>some college</td>\n",
       "      <td>standard</td>\n",
       "      <td>none</td>\n",
       "      <td>76</td>\n",
       "      <td>78</td>\n",
       "      <td>75</td>\n",
       "    </tr>\n",
       "  </tbody>\n",
       "</table>\n",
       "</div>"
      ],
      "text/plain": [
       "   gender race_ethnicity parental_level_of_education         lunch  \\\n",
       "0  female        group B           bachelor's degree      standard   \n",
       "1  female        group C                some college      standard   \n",
       "2  female        group B             master's degree      standard   \n",
       "3    male        group A          associate's degree  free/reduced   \n",
       "4    male        group C                some college      standard   \n",
       "\n",
       "  test_preparation_course  math_score  reading_score  writing_score  \n",
       "0                    none          72             72             74  \n",
       "1               completed          69             90             88  \n",
       "2                    none          90             95             93  \n",
       "3                    none          47             57             44  \n",
       "4                    none          76             78             75  "
      ]
     },
     "execution_count": 13,
     "metadata": {},
     "output_type": "execute_result"
    }
   ],
   "source": [
    "df.head()"
   ]
  },
  {
   "cell_type": "code",
   "execution_count": 16,
   "id": "af72091c",
   "metadata": {},
   "outputs": [],
   "source": [
    "X = df.drop(columns=['math_score'])\n",
    "y = df['math_score']"
   ]
  },
  {
   "cell_type": "code",
   "execution_count": 15,
   "id": "043fb9d1",
   "metadata": {},
   "outputs": [],
   "source": [
    "df['average_score'] = (df['math_score'] + df['reading_score'] + df['writing_score'])/3\n",
    "df['total_score'] = df['math_score'] + df['reading_score'] + df['writing_score']"
   ]
  },
  {
   "cell_type": "code",
   "execution_count": 20,
   "id": "39e9c6a8",
   "metadata": {},
   "outputs": [
    {
     "data": {
      "application/vnd.microsoft.datawrangler.viewer.v0+json": {
       "columns": [
        {
         "name": "index",
         "rawType": "int64",
         "type": "integer"
        },
        {
         "name": "math_score",
         "rawType": "int64",
         "type": "integer"
        }
       ],
       "ref": "4d6cb374-354f-49e3-8630-e8c4665548f2",
       "rows": [
        [
         "0",
         "72"
        ],
        [
         "1",
         "69"
        ],
        [
         "2",
         "90"
        ],
        [
         "3",
         "47"
        ],
        [
         "4",
         "76"
        ]
       ],
       "shape": {
        "columns": 1,
        "rows": 5
       }
      },
      "text/plain": [
       "0    72\n",
       "1    69\n",
       "2    90\n",
       "3    47\n",
       "4    76\n",
       "Name: math_score, dtype: int64"
      ]
     },
     "execution_count": 20,
     "metadata": {},
     "output_type": "execute_result"
    }
   ],
   "source": [
    "y.head() "
   ]
  },
  {
   "cell_type": "code",
   "execution_count": 21,
   "id": "b3f7c9cf",
   "metadata": {},
   "outputs": [
    {
     "name": "stdout",
     "output_type": "stream",
     "text": [
      "Numerical Columns: ['reading_score', 'writing_score', 'average_score', 'total_score']\n",
      "Categorical Columns: ['gender', 'race_ethnicity', 'parental_level_of_education', 'lunch', 'test_preparation_course']\n"
     ]
    }
   ],
   "source": [
    "num_cols = [ cols for cols in X.columns if X[cols].dtype in ['int64','float64']]\n",
    "cat_cols = [ cols for cols in X.columns if X[cols].dtype == 'object']\n",
    "print(f'Numerical Columns: {num_cols}')\n",
    "print(f'Categorical Columns: {cat_cols}')\n"
   ]
  },
  {
   "cell_type": "code",
   "execution_count": 23,
   "id": "f42d0c0c",
   "metadata": {},
   "outputs": [],
   "source": [
    "from sklearn.preprocessing import OneHotEncoder, StandardScaler\n",
    "from sklearn.compose import ColumnTransformer\n",
    "from sklearn.pipeline import Pipeline\n",
    "\n",
    "numerical_transformer = StandardScaler()\n",
    "categorical_transformer = OneHotEncoder(handle_unknown='ignore')\n",
    "\n",
    "preprocessor = ColumnTransformer([(\"OneHotEncoder\", categorical_transformer, cat_cols),\n",
    "                                 (\"StandardScaler\", numerical_transformer, num_cols)])"
   ]
  },
  {
   "cell_type": "code",
   "execution_count": 24,
   "id": "f12b596e",
   "metadata": {},
   "outputs": [],
   "source": [
    "X = preprocessor.fit_transform(X)"
   ]
  },
  {
   "cell_type": "code",
   "execution_count": 28,
   "id": "22a0d6ea",
   "metadata": {},
   "outputs": [
    {
     "data": {
      "text/plain": [
       "(array([[ 1.        ,  0.        ,  0.        , ...,  0.39149181,\n",
       "          0.34357423,  0.34357423],\n",
       "        [ 1.        ,  0.        ,  0.        , ...,  1.31326868,\n",
       "          1.0219275 ,  1.0219275 ],\n",
       "        [ 1.        ,  0.        ,  0.        , ...,  1.64247471,\n",
       "          1.74706375,  1.74706375],\n",
       "        ...,\n",
       "        [ 1.        ,  0.        ,  0.        , ..., -0.20107904,\n",
       "         -0.19443008, -0.19443008],\n",
       "        [ 1.        ,  0.        ,  0.        , ...,  0.58901542,\n",
       "          0.46053169,  0.46053169],\n",
       "        [ 1.        ,  0.        ,  0.        , ...,  1.18158627,\n",
       "          1.06871048,  1.06871048]], shape=(1000, 21)),\n",
       " 0      72\n",
       " 1      69\n",
       " 2      90\n",
       " 3      47\n",
       " 4      76\n",
       "        ..\n",
       " 995    88\n",
       " 996    62\n",
       " 997    59\n",
       " 998    68\n",
       " 999    77\n",
       " Name: math_score, Length: 1000, dtype: int64)"
      ]
     },
     "execution_count": 28,
     "metadata": {},
     "output_type": "execute_result"
    }
   ],
   "source": [
    "X,y"
   ]
  },
  {
   "cell_type": "code",
   "execution_count": 29,
   "id": "8811aae8",
   "metadata": {},
   "outputs": [
    {
     "data": {
      "text/plain": [
       "((800, 21), (200, 21), (800,), (200,))"
      ]
     },
     "execution_count": 29,
     "metadata": {},
     "output_type": "execute_result"
    }
   ],
   "source": [
    "from sklearn.model_selection import train_test_split\n",
    "X_train, X_test, y_train, y_test = train_test_split(X, y, test_size=0.2, random_state=42)\n",
    "X_train.shape, X_test.shape, y_train.shape, y_test.shape"
   ]
  },
  {
   "cell_type": "code",
   "execution_count": 30,
   "id": "53554873",
   "metadata": {},
   "outputs": [],
   "source": [
    "def evaluate_model(true, predicted):\n",
    "    mae = mean_absolute_error(true, predicted)\n",
    "    mse = mean_squared_error(true, predicted)\n",
    "    rmse = np.sqrt(mse)\n",
    "    r2_square = r2_score(true, predicted)\n",
    "    return mae, mse, rmse, r2_square"
   ]
  },
  {
   "cell_type": "code",
   "execution_count": 31,
   "id": "d72d78a3",
   "metadata": {},
   "outputs": [
    {
     "name": "stdout",
     "output_type": "stream",
     "text": [
      "Model: Random Forest\n",
      "Training Set: MAE=0.8461250000000001, MSE=1.23448425, RMSE=1.1110734674178842, R2=0.9945242935627935\n",
      "Test Set: MAE=2.16815, MSE=9.1127705, RMSE=3.018736573469106, R2=0.9625510379783873\n",
      "--------------------------------------------------\n",
      "Model: Decision Tree\n",
      "Training Set: MAE=0.0, MSE=0.0, RMSE=0.0, R2=1.0\n",
      "Test Set: MAE=3.085, MSE=15.575, RMSE=3.946517452134223, R2=0.9359944834025373\n",
      "--------------------------------------------------\n",
      "Model: KNN\n",
      "Training Set: MAE=3.38375, MSE=18.31055, RMSE=4.2790828456574665, R2=0.9187813076563818\n",
      "Test Set: MAE=4.045999999999999, MSE=26.8204, RMSE=5.1788415693087195, R2=0.889781473043301\n",
      "--------------------------------------------------\n",
      "Model: Linear Regression\n",
      "Training Set: MAE=1.3221423955656065e-13, MSE=2.699898536224259e-26, RMSE=1.6431367977816878e-13, R2=1.0\n",
      "Test Set: MAE=1.3464784842653898e-13, MSE=2.883873521096283e-26, RMSE=1.6981971384666396e-13, R2=1.0\n",
      "--------------------------------------------------\n",
      "Model: Ridge\n",
      "Training Set: MAE=0.2724414942038471, MSE=0.11532820078633317, RMSE=0.3396000600505441, R2=0.9994884476076247\n",
      "Test Set: MAE=0.2684279510664123, MSE=0.11778357189052477, RMSE=0.3431961128721081, R2=0.9995159680022121\n",
      "--------------------------------------------------\n",
      "Model: Lasso\n",
      "Training Set: MAE=3.7438569719750565, MSE=22.449201246368315, RMSE=4.738058805710237, R2=0.9004238119887847\n",
      "Test Set: MAE=3.7578731421148297, MSE=22.250793484434908, RMSE=4.717074674460317, R2=0.9085602868908692\n",
      "--------------------------------------------------\n",
      "Model: SVR\n",
      "Training Set: MAE=3.507426057789904, MSE=26.417969122498825, RMSE=5.139841351880311, R2=0.8828198548649038\n",
      "Test Set: MAE=4.004328026234367, MSE=50.12206274541465, RMSE=7.079693690083961, R2=0.7940232090561348\n",
      "--------------------------------------------------\n",
      "Model: XGBRegressor\n",
      "Training Set: MAE=0.08290822058916092, MSE=0.012558799237012863, RMSE=0.11206604854733151, R2=0.999944269657135\n",
      "Test Set: MAE=1.7551690340042114, MSE=5.572134494781494, RMSE=2.360536908159136, R2=0.9771012663841248\n",
      "--------------------------------------------------\n",
      "Model: CatBoosting Regressor\n",
      "Training Set: MAE=0.7701736447809344, MSE=0.8889126572927033, RMSE=0.9428216465974375, R2=0.9960571187849079\n",
      "Test Set: MAE=1.9234441468723011, MSE=7.762398206793355, RMSE=2.786108075217714, R2=0.9681003976076388\n",
      "--------------------------------------------------\n",
      "Model: AdaBoost Regressor\n",
      "Training Set: MAE=3.1797393957370836, MSE=15.309868444240424, RMSE=3.9127826983159215, R2=0.9320911990631613\n",
      "Test Set: MAE=3.294395409251018, MSE=17.217272570147134, RMSE=4.149370141376536, R2=0.9292455585713264\n",
      "--------------------------------------------------\n"
     ]
    }
   ],
   "source": [
    "models = {\n",
    "    \"Random Forest\": RandomForestRegressor(),\n",
    "    \"Decision Tree\": DecisionTreeRegressor(),\n",
    "    \"KNN\": KNeighborsRegressor(),\n",
    "    \"Linear Regression\": LinearRegression(),\n",
    "    \"Ridge\": Ridge(),\n",
    "    \"Lasso\": Lasso(),\n",
    "    \"SVR\": SVR(),\n",
    "    \"XGBRegressor\": XGBRegressor(),\n",
    "    \"CatBoosting Regressor\": CatBoostRegressor(verbose=False),\n",
    "    \"AdaBoost Regressor\": AdaBoostRegressor()\n",
    "}\n",
    "\n",
    "models_list = []\n",
    "r2_list = []\n",
    "\n",
    "for i in range(len(models)):\n",
    "    model = list(models.values())[i]\n",
    "    model.fit(X_train, y_train)\n",
    "    \n",
    "    # Make predictions\n",
    "    y_train_pred = model.predict(X_train)\n",
    "    y_test_pred = model.predict(X_test)\n",
    "    \n",
    "    # Evaluate the model\n",
    "    train_mae, train_mse, train_rmse, train_r2 = evaluate_model(y_train, y_train_pred)\n",
    "    test_mae, test_mse, test_rmse, test_r2 = evaluate_model(y_test, y_test_pred)\n",
    "    \n",
    "    models_list.append(list(models.keys())[i])\n",
    "    r2_list.append(test_r2)\n",
    "    \n",
    "    print(f\"Model: {list(models.keys())[i]}\")\n",
    "    print(f\"Training Set: MAE={train_mae}, MSE={train_mse}, RMSE={train_rmse}, R2={train_r2}\")\n",
    "    print(f\"Test Set: MAE={test_mae}, MSE={test_mse}, RMSE={test_rmse}, R2={test_r2}\")\n",
    "    print(\"-\"*50)\n",
    "    \n",
    "\n",
    "\n"
   ]
  },
  {
   "cell_type": "code",
   "execution_count": 33,
   "id": "d050158c",
   "metadata": {},
   "outputs": [
    {
     "data": {
      "application/vnd.microsoft.datawrangler.viewer.v0+json": {
       "columns": [
        {
         "name": "index",
         "rawType": "int64",
         "type": "integer"
        },
        {
         "name": "Model Name",
         "rawType": "object",
         "type": "string"
        },
        {
         "name": "R2_Score",
         "rawType": "float64",
         "type": "float"
        }
       ],
       "ref": "41ac2a61-b70f-453b-b604-dbe435a9f39e",
       "rows": [
        [
         "3",
         "Linear Regression",
         "1.0"
        ],
        [
         "4",
         "Ridge",
         "0.9995159680022121"
        ],
        [
         "7",
         "XGBRegressor",
         "0.9771012663841248"
        ],
        [
         "8",
         "CatBoosting Regressor",
         "0.9681003976076388"
        ],
        [
         "0",
         "Random Forest",
         "0.9625510379783873"
        ],
        [
         "1",
         "Decision Tree",
         "0.9359944834025373"
        ],
        [
         "9",
         "AdaBoost Regressor",
         "0.9292455585713264"
        ],
        [
         "5",
         "Lasso",
         "0.9085602868908692"
        ],
        [
         "2",
         "KNN",
         "0.889781473043301"
        ],
        [
         "6",
         "SVR",
         "0.7940232090561348"
        ]
       ],
       "shape": {
        "columns": 2,
        "rows": 10
       }
      },
      "text/html": [
       "<div>\n",
       "<style scoped>\n",
       "    .dataframe tbody tr th:only-of-type {\n",
       "        vertical-align: middle;\n",
       "    }\n",
       "\n",
       "    .dataframe tbody tr th {\n",
       "        vertical-align: top;\n",
       "    }\n",
       "\n",
       "    .dataframe thead th {\n",
       "        text-align: right;\n",
       "    }\n",
       "</style>\n",
       "<table border=\"1\" class=\"dataframe\">\n",
       "  <thead>\n",
       "    <tr style=\"text-align: right;\">\n",
       "      <th></th>\n",
       "      <th>Model Name</th>\n",
       "      <th>R2_Score</th>\n",
       "    </tr>\n",
       "  </thead>\n",
       "  <tbody>\n",
       "    <tr>\n",
       "      <th>3</th>\n",
       "      <td>Linear Regression</td>\n",
       "      <td>1.000000</td>\n",
       "    </tr>\n",
       "    <tr>\n",
       "      <th>4</th>\n",
       "      <td>Ridge</td>\n",
       "      <td>0.999516</td>\n",
       "    </tr>\n",
       "    <tr>\n",
       "      <th>7</th>\n",
       "      <td>XGBRegressor</td>\n",
       "      <td>0.977101</td>\n",
       "    </tr>\n",
       "    <tr>\n",
       "      <th>8</th>\n",
       "      <td>CatBoosting Regressor</td>\n",
       "      <td>0.968100</td>\n",
       "    </tr>\n",
       "    <tr>\n",
       "      <th>0</th>\n",
       "      <td>Random Forest</td>\n",
       "      <td>0.962551</td>\n",
       "    </tr>\n",
       "    <tr>\n",
       "      <th>1</th>\n",
       "      <td>Decision Tree</td>\n",
       "      <td>0.935994</td>\n",
       "    </tr>\n",
       "    <tr>\n",
       "      <th>9</th>\n",
       "      <td>AdaBoost Regressor</td>\n",
       "      <td>0.929246</td>\n",
       "    </tr>\n",
       "    <tr>\n",
       "      <th>5</th>\n",
       "      <td>Lasso</td>\n",
       "      <td>0.908560</td>\n",
       "    </tr>\n",
       "    <tr>\n",
       "      <th>2</th>\n",
       "      <td>KNN</td>\n",
       "      <td>0.889781</td>\n",
       "    </tr>\n",
       "    <tr>\n",
       "      <th>6</th>\n",
       "      <td>SVR</td>\n",
       "      <td>0.794023</td>\n",
       "    </tr>\n",
       "  </tbody>\n",
       "</table>\n",
       "</div>"
      ],
      "text/plain": [
       "              Model Name  R2_Score\n",
       "3      Linear Regression  1.000000\n",
       "4                  Ridge  0.999516\n",
       "7           XGBRegressor  0.977101\n",
       "8  CatBoosting Regressor  0.968100\n",
       "0          Random Forest  0.962551\n",
       "1          Decision Tree  0.935994\n",
       "9     AdaBoost Regressor  0.929246\n",
       "5                  Lasso  0.908560\n",
       "2                    KNN  0.889781\n",
       "6                    SVR  0.794023"
      ]
     },
     "execution_count": 33,
     "metadata": {},
     "output_type": "execute_result"
    }
   ],
   "source": [
    "pd.DataFrame(list(zip(models_list, r2_list)), columns=['Model Name', 'R2_Score']).sort_values(by=[\"R2_Score\"],ascending=False)\n"
   ]
  },
  {
   "cell_type": "code",
   "execution_count": 34,
   "id": "d240ce54",
   "metadata": {},
   "outputs": [
    {
     "name": "stdout",
     "output_type": "stream",
     "text": [
      " Accuracy of the model is 100.00\n"
     ]
    }
   ],
   "source": [
    "lin_model = LinearRegression(fit_intercept=True)\n",
    "lin_model = lin_model.fit(X_train, y_train)\n",
    "y_pred = lin_model.predict(X_test)\n",
    "score = r2_score(y_test, y_pred)*100\n",
    "print(\" Accuracy of the model is %.2f\" %score)"
   ]
  },
  {
   "cell_type": "code",
   "execution_count": 36,
   "id": "bd4445f6",
   "metadata": {},
   "outputs": [
    {
     "data": {
      "text/plain": [
       "Text(0, 0.5, 'Predicted')"
      ]
     },
     "execution_count": 36,
     "metadata": {},
     "output_type": "execute_result"
    },
    {
     "data": {
      "image/png": "[encoded data removed]",
      "text/plain": [
       "<Figure size 640x480 with 1 Axes>"
      ]
     },
     "metadata": {},
     "output_type": "display_data"
    }
   ],
   "source": [
    "plt.scatter(y_test,y_pred)\n",
    "plt.xlabel('Actual')\n",
    "plt.ylabel('Predicted')"
   ]
  },
  {
   "cell_type": "code",
   "execution_count": 37,
   "id": "427f3d51",
   "metadata": {},
   "outputs": [
    {
     "data": {
      "text/plain": [
       "<Axes: xlabel='math_score'>"
      ]
     },
     "execution_count": 37,
     "metadata": {},
     "output_type": "execute_result"
    },
    {
     "data": {
      "image/png": "[encoded data removed]",
      "text/plain": [
       "<Figure size 640x480 with 1 Axes>"
      ]
     },
     "metadata": {},
     "output_type": "display_data"
    }
   ],
   "source": [
    "sns.regplot(x=y_test,y=y_pred,ci=None,color ='red')"
   ]
  },
  {
   "cell_type": "code",
   "execution_count": 38,
   "id": "0105ab2d",
   "metadata": {},
   "outputs": [
    {
     "data": {
      "application/vnd.microsoft.datawrangler.viewer.v0+json": {
       "columns": [
        {
         "name": "index",
         "rawType": "int64",
         "type": "integer"
        },
        {
         "name": "Actual Value",
         "rawType": "int64",
         "type": "integer"
        },
        {
         "name": "Predicted Value",
         "rawType": "float64",
         "type": "float"
        },
        {
         "name": "Difference",
         "rawType": "float64",
         "type": "float"
        }
       ],
       "ref": "c185f114-fa18-4784-860a-3d0d28be7729",
       "rows": [
        [
         "521",
         "91",
         "91.00000000000023",
         "-2.2737367544323206e-13"
        ],
        [
         "737",
         "53",
         "52.99999999999997",
         "2.842170943040401e-14"
        ],
        [
         "740",
         "80",
         "80.00000000000009",
         "-8.526512829121202e-14"
        ],
        [
         "660",
         "74",
         "74.00000000000009",
         "-8.526512829121202e-14"
        ],
        [
         "411",
         "84",
         "84.00000000000016",
         "-1.5631940186722204e-13"
        ],
        [
         "678",
         "81",
         "81.00000000000011",
         "-1.1368683772161603e-13"
        ],
        [
         "626",
         "69",
         "69.0",
         "0.0"
        ],
        [
         "513",
         "54",
         "53.999999999999915",
         "8.526512829121202e-14"
        ],
        [
         "859",
         "87",
         "87.00000000000009",
         "-8.526512829121202e-14"
        ],
        [
         "136",
         "51",
         "50.99999999999978",
         "2.2026824808563106e-13"
        ],
        [
         "811",
         "45",
         "44.99999999999976",
         "2.4158453015843406e-13"
        ],
        [
         "76",
         "30",
         "29.999999999999517",
         "4.831690603168681e-13"
        ],
        [
         "636",
         "67",
         "67.0000000000001",
         "-9.947598300641403e-14"
        ],
        [
         "973",
         "49",
         "48.99999999999993",
         "7.105427357601002e-14"
        ],
        [
         "938",
         "85",
         "85.0000000000002",
         "-1.9895196601282805e-13"
        ],
        [
         "899",
         "65",
         "65.00000000000011",
         "-1.1368683772161603e-13"
        ],
        [
         "280",
         "53",
         "52.999999999999794",
         "2.0605739337042905e-13"
        ],
        [
         "883",
         "55",
         "54.999999999999794",
         "2.0605739337042905e-13"
        ],
        [
         "761",
         "48",
         "47.99999999999987",
         "1.2789769243681803e-13"
        ],
        [
         "319",
         "56",
         "55.99999999999997",
         "2.842170943040401e-14"
        ],
        [
         "549",
         "79",
         "79.00000000000003",
         "-2.842170943040401e-14"
        ],
        [
         "174",
         "43",
         "42.99999999999983",
         "1.7053025658242404e-13"
        ],
        [
         "371",
         "45",
         "44.99999999999998",
         "2.1316282072803006e-14"
        ],
        [
         "527",
         "36",
         "35.999999999999744",
         "2.5579538487363607e-13"
        ],
        [
         "210",
         "80",
         "80.00000000000014",
         "-1.4210854715202004e-13"
        ],
        [
         "235",
         "80",
         "80.0000000000001",
         "-9.947598300641403e-14"
        ],
        [
         "101",
         "68",
         "68.00000000000009",
         "-8.526512829121202e-14"
        ],
        [
         "986",
         "40",
         "39.99999999999982",
         "1.7763568394002505e-13"
        ],
        [
         "902",
         "34",
         "33.99999999999973",
         "2.7000623958883807e-13"
        ],
        [
         "947",
         "49",
         "48.999999999999886",
         "1.1368683772161603e-13"
        ],
        [
         "346",
         "62",
         "61.999999999999886",
         "1.1368683772161603e-13"
        ],
        [
         "139",
         "71",
         "71.0",
         "0.0"
        ],
        [
         "621",
         "62",
         "61.999999999999915",
         "8.526512829121202e-14"
        ],
        [
         "499",
         "76",
         "76.00000000000003",
         "-2.842170943040401e-14"
        ],
        [
         "370",
         "84",
         "84.00000000000009",
         "-8.526512829121202e-14"
        ],
        [
         "198",
         "45",
         "44.9999999999998",
         "1.9895196601282805e-13"
        ],
        [
         "687",
         "77",
         "77.00000000000011",
         "-1.1368683772161603e-13"
        ],
        [
         "584",
         "69",
         "69.00000000000009",
         "-8.526512829121202e-14"
        ],
        [
         "901",
         "73",
         "73.00000000000009",
         "-8.526512829121202e-14"
        ],
        [
         "59",
         "0",
         "-6.536993168992922e-13",
         "6.536993168992922e-13"
        ],
        [
         "328",
         "82",
         "82.00000000000011",
         "-1.1368683772161603e-13"
        ],
        [
         "96",
         "65",
         "64.99999999999994",
         "5.684341886080802e-14"
        ],
        [
         "312",
         "67",
         "66.99999999999999",
         "1.4210854715202004e-14"
        ],
        [
         "974",
         "54",
         "53.99999999999995",
         "4.973799150320701e-14"
        ],
        [
         "299",
         "90",
         "90.0000000000002",
         "-1.9895196601282805e-13"
        ],
        [
         "277",
         "59",
         "58.99999999999997",
         "2.842170943040401e-14"
        ],
        [
         "924",
         "74",
         "74.00000000000003",
         "-2.842170943040401e-14"
        ],
        [
         "601",
         "29",
         "28.99999999999956",
         "4.405364961712621e-13"
        ],
        [
         "439",
         "89",
         "89.00000000000023",
         "-2.2737367544323206e-13"
        ],
        [
         "837",
         "75",
         "75.00000000000016",
         "-1.5631940186722204e-13"
        ]
       ],
       "shape": {
        "columns": 3,
        "rows": 200
       }
      },
      "text/html": [
       "<div>\n",
       "<style scoped>\n",
       "    .dataframe tbody tr th:only-of-type {\n",
       "        vertical-align: middle;\n",
       "    }\n",
       "\n",
       "    .dataframe tbody tr th {\n",
       "        vertical-align: top;\n",
       "    }\n",
       "\n",
       "    .dataframe thead th {\n",
       "        text-align: right;\n",
       "    }\n",
       "</style>\n",
       "<table border=\"1\" class=\"dataframe\">\n",
       "  <thead>\n",
       "    <tr style=\"text-align: right;\">\n",
       "      <th></th>\n",
       "      <th>Actual Value</th>\n",
       "      <th>Predicted Value</th>\n",
       "      <th>Difference</th>\n",
       "    </tr>\n",
       "  </thead>\n",
       "  <tbody>\n",
       "    <tr>\n",
       "      <th>521</th>\n",
       "      <td>91</td>\n",
       "      <td>91.0</td>\n",
       "      <td>-2.273737e-13</td>\n",
       "    </tr>\n",
       "    <tr>\n",
       "      <th>737</th>\n",
       "      <td>53</td>\n",
       "      <td>53.0</td>\n",
       "      <td>2.842171e-14</td>\n",
       "    </tr>\n",
       "    <tr>\n",
       "      <th>740</th>\n",
       "      <td>80</td>\n",
       "      <td>80.0</td>\n",
       "      <td>-8.526513e-14</td>\n",
       "    </tr>\n",
       "    <tr>\n",
       "      <th>660</th>\n",
       "      <td>74</td>\n",
       "      <td>74.0</td>\n",
       "      <td>-8.526513e-14</td>\n",
       "    </tr>\n",
       "    <tr>\n",
       "      <th>411</th>\n",
       "      <td>84</td>\n",
       "      <td>84.0</td>\n",
       "      <td>-1.563194e-13</td>\n",
       "    </tr>\n",
       "    <tr>\n",
       "      <th>...</th>\n",
       "      <td>...</td>\n",
       "      <td>...</td>\n",
       "      <td>...</td>\n",
       "    </tr>\n",
       "    <tr>\n",
       "      <th>408</th>\n",
       "      <td>52</td>\n",
       "      <td>52.0</td>\n",
       "      <td>1.136868e-13</td>\n",
       "    </tr>\n",
       "    <tr>\n",
       "      <th>332</th>\n",
       "      <td>62</td>\n",
       "      <td>62.0</td>\n",
       "      <td>1.207923e-13</td>\n",
       "    </tr>\n",
       "    <tr>\n",
       "      <th>208</th>\n",
       "      <td>74</td>\n",
       "      <td>74.0</td>\n",
       "      <td>-9.947598e-14</td>\n",
       "    </tr>\n",
       "    <tr>\n",
       "      <th>613</th>\n",
       "      <td>65</td>\n",
       "      <td>65.0</td>\n",
       "      <td>-7.105427e-14</td>\n",
       "    </tr>\n",
       "    <tr>\n",
       "      <th>78</th>\n",
       "      <td>61</td>\n",
       "      <td>61.0</td>\n",
       "      <td>-5.684342e-14</td>\n",
       "    </tr>\n",
       "  </tbody>\n",
       "</table>\n",
       "<p>200 rows × 3 columns</p>\n",
       "</div>"
      ],
      "text/plain": [
       "     Actual Value  Predicted Value    Difference\n",
       "521            91             91.0 -2.273737e-13\n",
       "737            53             53.0  2.842171e-14\n",
       "740            80             80.0 -8.526513e-14\n",
       "660            74             74.0 -8.526513e-14\n",
       "411            84             84.0 -1.563194e-13\n",
       "..            ...              ...           ...\n",
       "408            52             52.0  1.136868e-13\n",
       "332            62             62.0  1.207923e-13\n",
       "208            74             74.0 -9.947598e-14\n",
       "613            65             65.0 -7.105427e-14\n",
       "78             61             61.0 -5.684342e-14\n",
       "\n",
       "[200 rows x 3 columns]"
      ]
     },
     "execution_count": 38,
     "metadata": {},
     "output_type": "execute_result"
    }
   ],
   "source": [
    "pred_df=pd.DataFrame({'Actual Value':y_test,'Predicted Value':y_pred,'Difference':y_test-y_pred})\n",
    "pred_df"
   ]
  }
 ],
 "metadata": {
  "kernelspec": {
   "display_name": ".venv",
   "language": "python",
   "name": "python3"
  },
  "language_info": {
   "codemirror_mode": {
    "name": "ipython",
    "version": 3
   },
   "file_extension": ".py",
   "mimetype": "text/x-python",
   "name": "python",
   "nbconvert_exporter": "python",
   "pygments_lexer": "ipython3",
   "version": "3.13.2"
  }
 },
 "nbformat": 4,
 "nbformat_minor": 5
}
